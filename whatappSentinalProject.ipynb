{
 "cells": [
  {
   "cell_type": "raw",
   "id": "84f48204-4be1-47a6-a9a9-2e2b54976ecd",
   "metadata": {},
   "source": [
    "#Import required libraries"
   ]
  },
  {
   "cell_type": "code",
   "execution_count": 1,
   "id": "614a06a7-05d4-4865-a60a-2495df01f018",
   "metadata": {},
   "outputs": [],
   "source": [
    "import re \n",
    "import pandas as pd\n",
    "import numpy as np\n",
    "import emoji\n",
    "from collections import Counter\n",
    "import matplotlib.pyplot as plt\n",
    "from PIL import Image\n",
    "from wordcloud import WordCloud, STOPWORDS, ImageColorGenerator\n",
    "import nltk"
   ]
  },
  {
   "cell_type": "raw",
   "id": "b5f24e65-2c44-4df2-8feb-fffe53d20b31",
   "metadata": {},
   "source": [
    "#Definations of function"
   ]
  },
  {
   "cell_type": "code",
   "execution_count": 2,
   "id": "5ade2411-f6ff-4b79-8622-2232c90364ed",
   "metadata": {},
   "outputs": [],
   "source": [
    "def date_time(s):\n",
    "    pattern = '^([0-9]+)(\\/)([0-9]+)(\\/)([0-9]+), ([0-9]+):([0-9]+)[ ]?(AM|PM|am|pm)? -'\n",
    "    result = re.match(pattern, s)\n",
    "    return bool(result)\n",
    "\n",
    "# Check if a string is a contact message\n",
    "def find_contact(s):\n",
    "    s = s.split(\":\")\n",
    "    return len(s) == 2\n",
    "\n",
    "# Extract date, time, author, and message from a line\n",
    "def getMessage(line):\n",
    "    splitline = line.split(' - ')\n",
    "    datetime = splitline[0]\n",
    "    datetime_parts = datetime.split(', ')\n",
    "    if len(datetime_parts) == 2:\n",
    "        date, time = datetime_parts\n",
    "    else:\n",
    "        date, time = None, None\n",
    "    message = \" \".join(splitline[1:])\n",
    "    if find_contact(message):\n",
    "        splitmessage = message.split(\": \")\n",
    "        author = splitmessage[0]\n",
    "        message = \" \".join(splitmessage[1:])\n",
    "    else:\n",
    "        author = None\n",
    "    return date, time, author, message\n",
    "\n"
   ]
  },
  {
   "cell_type": "code",
   "execution_count": 6,
   "id": "f9248f4a-7faa-47d5-85c4-3a5b658c8c5d",
   "metadata": {},
   "outputs": [],
   "source": [
    "data = []\n",
    "conversation = 'abc.txt'\n",
    "with open(conversation, encoding=\"utf-8\") as fp:\n",
    "    fp.readline()\n",
    "    messageBuffer = []\n",
    "    date, time, author = None, None, None\n",
    "    while True:\n",
    "        line = fp.readline()\n",
    "        if not line:\n",
    "            break\n",
    "        line = line.strip()\n",
    "        if date_time(line):\n",
    "            if messageBuffer:\n",
    "                data.append([date, time, author, ' '.join(messageBuffer)])\n",
    "            messageBuffer.clear()\n",
    "            date, time, author, message = getMessage(line)\n",
    "            messageBuffer.append(message)\n",
    "        else:\n",
    "            messageBuffer.append(line)\n",
    "        "
   ]
  },
  {
   "cell_type": "raw",
   "id": "c7b91abd-2d29-4a00-b6c4-27377a56131b",
   "metadata": {},
   "source": [
    "#analyze the sentiments"
   ]
  },
  {
   "cell_type": "code",
   "execution_count": 9,
   "id": "967a2a68-840f-44c6-9538-ac406bc0993c",
   "metadata": {},
   "outputs": [
    {
     "name": "stderr",
     "output_type": "stream",
     "text": [
      "[nltk_data] Downloading package vader_lexicon to\n",
      "[nltk_data]     C:\\Users\\12nik\\AppData\\Roaming\\nltk_data...\n",
      "[nltk_data]   Package vader_lexicon is already up-to-date!\n"
     ]
    },
    {
     "data": {
      "text/html": [
       "<div>\n",
       "<style scoped>\n",
       "    .dataframe tbody tr th:only-of-type {\n",
       "        vertical-align: middle;\n",
       "    }\n",
       "\n",
       "    .dataframe tbody tr th {\n",
       "        vertical-align: top;\n",
       "    }\n",
       "\n",
       "    .dataframe thead th {\n",
       "        text-align: right;\n",
       "    }\n",
       "</style>\n",
       "<table border=\"1\" class=\"dataframe\">\n",
       "  <thead>\n",
       "    <tr style=\"text-align: right;\">\n",
       "      <th></th>\n",
       "      <th>Date</th>\n",
       "      <th>Time</th>\n",
       "      <th>Contact</th>\n",
       "      <th>Message</th>\n",
       "      <th>positive</th>\n",
       "      <th>negative</th>\n",
       "      <th>neutral</th>\n",
       "    </tr>\n",
       "  </thead>\n",
       "  <tbody>\n",
       "  </tbody>\n",
       "</table>\n",
       "</div>"
      ],
      "text/plain": [
       "Empty DataFrame\n",
       "Columns: [Date, Time, Contact, Message, positive, negative, neutral]\n",
       "Index: []"
      ]
     },
     "execution_count": 9,
     "metadata": {},
     "output_type": "execute_result"
    }
   ],
   "source": [
    "df = pd.DataFrame(data, columns=[\"Date\", \"Time\", \"Contact\", \"Message\"])\n",
    "df['Date'] = pd.to_datetime(df['Date'])\n",
    "data = df.dropna()\n",
    "\n",
    "nltk.download('vader_lexicon')\n",
    "from nltk.sentiment.vader import SentimentIntensityAnalyzer\n",
    "sentiments = SentimentIntensityAnalyzer()\n",
    "data[\"positive\"] = [sentiments.polarity_scores(i)[\"pos\"] for i in data[\"Message\"]]\n",
    "data[\"negative\"] = [sentiments.polarity_scores(i)[\"neg\"] for i in data[\"Message\"]]\n",
    "data[\"neutral\"] = [sentiments.polarity_scores(i)[\"neu\"] for i in data[\"Message\"]]\n",
    "\n",
    "data.head(0)"
   ]
  },
  {
   "cell_type": "code",
   "execution_count": 5,
   "id": "e8ab520a-e4c6-4138-9932-8094487ecaed",
   "metadata": {},
   "outputs": [
    {
     "name": "stdout",
     "output_type": "stream",
     "text": [
      "neutral \n"
     ]
    }
   ],
   "source": [
    "x=sum(data[\"positive\"])\n",
    "y=sum(data[\"negative\"])\n",
    "z=sum(data[\"neutral\"])\n",
    "\n",
    "def score(a,b,c):\n",
    "    if (a>b) and (a>c):\n",
    "        print(\"positive \")\n",
    "    if (b>a) and (b>c):\n",
    "        print(\"negative \")\n",
    "    if (c>a) and (c>b):\n",
    "        print(\"neutral \")\n",
    "\n",
    "score(x,y,z)"
   ]
  },
  {
   "cell_type": "code",
   "execution_count": null,
   "id": "7d23d502-6f87-4b0b-8505-bbe14cd1b79b",
   "metadata": {},
   "outputs": [],
   "source": [
    "\n"
   ]
  }
 ],
 "metadata": {
  "kernelspec": {
   "display_name": "Python 3 (ipykernel)",
   "language": "python",
   "name": "python3"
  },
  "language_info": {
   "codemirror_mode": {
    "name": "ipython",
    "version": 3
   },
   "file_extension": ".py",
   "mimetype": "text/x-python",
   "name": "python",
   "nbconvert_exporter": "python",
   "pygments_lexer": "ipython3",
   "version": "3.11.3"
  }
 },
 "nbformat": 4,
 "nbformat_minor": 5
}
